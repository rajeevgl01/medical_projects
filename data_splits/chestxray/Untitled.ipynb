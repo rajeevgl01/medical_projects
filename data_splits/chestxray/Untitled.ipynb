{
 "cells": [
  {
   "cell_type": "code",
   "execution_count": 1,
   "id": "faa71faa-afb0-4920-bbe9-42a59b10534a",
   "metadata": {},
   "outputs": [
    {
     "name": "stdout",
     "output_type": "stream",
     "text": [
      "Randomly selected 100 lines and wrote them to grad_cam_test.txt.\n"
     ]
    }
   ],
   "source": [
    "import random\n",
    "\n",
    "# Input and output file paths\n",
    "input_file_path = 'test_official.txt'  # Replace with your input file path\n",
    "output_file_path = 'grad_cam_test.txt'  # Replace with your output file path\n",
    "\n",
    "# Number of lines to randomly select\n",
    "num_lines_to_select = 100\n",
    "\n",
    "# Read all lines from the input file\n",
    "with open(input_file_path, 'r') as input_file:\n",
    "    lines = input_file.readlines()\n",
    "\n",
    "# Check if the number of lines to select is greater than the total number of lines\n",
    "if num_lines_to_select > len(lines):\n",
    "    print(\"Number of lines to select exceeds the total number of lines in the input file.\")\n",
    "else:\n",
    "    # Randomly select 100 lines\n",
    "    selected_lines = random.sample(lines, num_lines_to_select)\n",
    "\n",
    "    # Write the selected lines to the output file\n",
    "    with open(output_file_path, 'w') as output_file:\n",
    "        output_file.writelines(selected_lines)\n",
    "\n",
    "print(f\"Randomly selected {num_lines_to_select} lines and wrote them to {output_file_path}.\")\n"
   ]
  },
  {
   "cell_type": "code",
   "execution_count": null,
   "id": "fe2dd801-204a-4bd2-9523-f4e95750165b",
   "metadata": {},
   "outputs": [],
   "source": []
  },
  {
   "cell_type": "code",
   "execution_count": null,
   "id": "d5e49ccb-c8b9-44c5-b616-0a122dc23de2",
   "metadata": {},
   "outputs": [],
   "source": []
  }
 ],
 "metadata": {
  "kernelspec": {
   "display_name": "Python 3 (ipykernel)",
   "language": "python",
   "name": "python3"
  },
  "language_info": {
   "codemirror_mode": {
    "name": "ipython",
    "version": 3
   },
   "file_extension": ".py",
   "mimetype": "text/x-python",
   "name": "python",
   "nbconvert_exporter": "python",
   "pygments_lexer": "ipython3",
   "version": "3.9.12"
  }
 },
 "nbformat": 4,
 "nbformat_minor": 5
}
